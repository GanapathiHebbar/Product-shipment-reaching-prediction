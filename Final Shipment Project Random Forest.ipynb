{
 "cells": [
  {
   "cell_type": "markdown",
   "id": "64015b25",
   "metadata": {},
   "source": [
    "# Step 1 : EDA"
   ]
  },
  {
   "cell_type": "code",
   "execution_count": 49,
   "id": "4400759b",
   "metadata": {
    "ExecuteTime": {
     "end_time": "2021-09-18T14:54:35.573500Z",
     "start_time": "2021-09-18T14:54:35.566504Z"
    }
   },
   "outputs": [],
   "source": [
    "import numpy as np\n",
    "import pandas as pd\n",
    "import matplotlib.pyplot as plt\n",
    "import seaborn as sns"
   ]
  },
  {
   "cell_type": "code",
   "execution_count": 50,
   "id": "23509103",
   "metadata": {
    "ExecuteTime": {
     "end_time": "2021-09-18T14:54:36.342433Z",
     "start_time": "2021-09-18T14:54:36.338436Z"
    }
   },
   "outputs": [],
   "source": [
    "# Display all the columns of the dataframe\n",
    "pd.pandas.set_option('display.max_columns',None)"
   ]
  },
  {
   "cell_type": "code",
   "execution_count": 51,
   "id": "aac941c4",
   "metadata": {
    "ExecuteTime": {
     "end_time": "2021-09-18T14:54:37.199376Z",
     "start_time": "2021-09-18T14:54:37.160395Z"
    }
   },
   "outputs": [
    {
     "name": "stdout",
     "output_type": "stream",
     "text": [
      "(10999, 12)\n"
     ]
    }
   ],
   "source": [
    "dataset=pd.read_csv('shipments.csv')\n",
    "print(dataset.shape) #print shape of dataset with rows and columns"
   ]
  },
  {
   "cell_type": "code",
   "execution_count": 52,
   "id": "f0993660",
   "metadata": {
    "ExecuteTime": {
     "end_time": "2021-09-18T14:54:37.935647Z",
     "start_time": "2021-09-18T14:54:37.904162Z"
    }
   },
   "outputs": [
    {
     "data": {
      "text/html": [
       "<div>\n",
       "<style scoped>\n",
       "    .dataframe tbody tr th:only-of-type {\n",
       "        vertical-align: middle;\n",
       "    }\n",
       "\n",
       "    .dataframe tbody tr th {\n",
       "        vertical-align: top;\n",
       "    }\n",
       "\n",
       "    .dataframe thead th {\n",
       "        text-align: right;\n",
       "    }\n",
       "</style>\n",
       "<table border=\"1\" class=\"dataframe\">\n",
       "  <thead>\n",
       "    <tr style=\"text-align: right;\">\n",
       "      <th></th>\n",
       "      <th>ID</th>\n",
       "      <th>Warehouse_block</th>\n",
       "      <th>Mode_of_Shipment</th>\n",
       "      <th>Customer_care_calls</th>\n",
       "      <th>Customer_rating</th>\n",
       "      <th>Cost_of_the_Product</th>\n",
       "      <th>Prior_purchases</th>\n",
       "      <th>Product_importance</th>\n",
       "      <th>Gender</th>\n",
       "      <th>Discount_offered</th>\n",
       "      <th>Weight_in_gms</th>\n",
       "      <th>Reached.on.Time_Y.N</th>\n",
       "    </tr>\n",
       "  </thead>\n",
       "  <tbody>\n",
       "    <tr>\n",
       "      <th>0</th>\n",
       "      <td>1</td>\n",
       "      <td>D</td>\n",
       "      <td>Flight</td>\n",
       "      <td>4</td>\n",
       "      <td>2</td>\n",
       "      <td>177</td>\n",
       "      <td>3</td>\n",
       "      <td>low</td>\n",
       "      <td>F</td>\n",
       "      <td>44</td>\n",
       "      <td>1233</td>\n",
       "      <td>1</td>\n",
       "    </tr>\n",
       "    <tr>\n",
       "      <th>1</th>\n",
       "      <td>2</td>\n",
       "      <td>F</td>\n",
       "      <td>Flight</td>\n",
       "      <td>4</td>\n",
       "      <td>5</td>\n",
       "      <td>216</td>\n",
       "      <td>2</td>\n",
       "      <td>low</td>\n",
       "      <td>M</td>\n",
       "      <td>59</td>\n",
       "      <td>3088</td>\n",
       "      <td>1</td>\n",
       "    </tr>\n",
       "    <tr>\n",
       "      <th>2</th>\n",
       "      <td>3</td>\n",
       "      <td>A</td>\n",
       "      <td>Flight</td>\n",
       "      <td>2</td>\n",
       "      <td>2</td>\n",
       "      <td>183</td>\n",
       "      <td>4</td>\n",
       "      <td>low</td>\n",
       "      <td>M</td>\n",
       "      <td>48</td>\n",
       "      <td>3374</td>\n",
       "      <td>1</td>\n",
       "    </tr>\n",
       "    <tr>\n",
       "      <th>3</th>\n",
       "      <td>4</td>\n",
       "      <td>B</td>\n",
       "      <td>Flight</td>\n",
       "      <td>3</td>\n",
       "      <td>3</td>\n",
       "      <td>176</td>\n",
       "      <td>4</td>\n",
       "      <td>medium</td>\n",
       "      <td>M</td>\n",
       "      <td>10</td>\n",
       "      <td>1177</td>\n",
       "      <td>1</td>\n",
       "    </tr>\n",
       "    <tr>\n",
       "      <th>4</th>\n",
       "      <td>5</td>\n",
       "      <td>C</td>\n",
       "      <td>Flight</td>\n",
       "      <td>2</td>\n",
       "      <td>2</td>\n",
       "      <td>184</td>\n",
       "      <td>3</td>\n",
       "      <td>medium</td>\n",
       "      <td>F</td>\n",
       "      <td>46</td>\n",
       "      <td>2484</td>\n",
       "      <td>1</td>\n",
       "    </tr>\n",
       "  </tbody>\n",
       "</table>\n",
       "</div>"
      ],
      "text/plain": [
       "   ID Warehouse_block Mode_of_Shipment  Customer_care_calls  Customer_rating  \\\n",
       "0   1               D           Flight                    4                2   \n",
       "1   2               F           Flight                    4                5   \n",
       "2   3               A           Flight                    2                2   \n",
       "3   4               B           Flight                    3                3   \n",
       "4   5               C           Flight                    2                2   \n",
       "\n",
       "   Cost_of_the_Product  Prior_purchases Product_importance Gender  \\\n",
       "0                  177                3                low      F   \n",
       "1                  216                2                low      M   \n",
       "2                  183                4                low      M   \n",
       "3                  176                4             medium      M   \n",
       "4                  184                3             medium      F   \n",
       "\n",
       "   Discount_offered  Weight_in_gms  Reached.on.Time_Y.N  \n",
       "0                44           1233                    1  \n",
       "1                59           3088                    1  \n",
       "2                48           3374                    1  \n",
       "3                10           1177                    1  \n",
       "4                46           2484                    1  "
      ]
     },
     "execution_count": 52,
     "metadata": {},
     "output_type": "execute_result"
    }
   ],
   "source": [
    "dataset.head()"
   ]
  },
  {
   "cell_type": "markdown",
   "id": "84d7198d",
   "metadata": {},
   "source": [
    "## Missing Values"
   ]
  },
  {
   "cell_type": "code",
   "execution_count": 53,
   "id": "97abbacf",
   "metadata": {
    "ExecuteTime": {
     "end_time": "2021-09-18T14:54:39.383356Z",
     "start_time": "2021-09-18T14:54:39.367368Z"
    }
   },
   "outputs": [],
   "source": [
    "features_with_na=[features for features in dataset.columns if dataset[features].isnull().sum()>1]\n",
    "for feature in features_with_na:\n",
    "    print(feature,np.round(dataset[feature].isnull.mean(),4), '% missing values')"
   ]
  },
  {
   "cell_type": "markdown",
   "id": "ae60feb3",
   "metadata": {
    "ExecuteTime": {
     "end_time": "2021-09-17T11:29:56.183300Z",
     "start_time": "2021-09-17T11:29:56.161546Z"
    }
   },
   "source": [
    "There is no missing values"
   ]
  },
  {
   "cell_type": "markdown",
   "id": "fdf86ee6",
   "metadata": {
    "ExecuteTime": {
     "end_time": "2021-09-07T16:38:25.503190Z",
     "start_time": "2021-09-07T16:38:25.499190Z"
    }
   },
   "source": [
    "## Numerical Variables"
   ]
  },
  {
   "cell_type": "code",
   "execution_count": 54,
   "id": "58249fb9",
   "metadata": {
    "ExecuteTime": {
     "end_time": "2021-09-18T14:54:41.686229Z",
     "start_time": "2021-09-18T14:54:41.654717Z"
    }
   },
   "outputs": [
    {
     "name": "stdout",
     "output_type": "stream",
     "text": [
      "Number of Numerical Variables 7\n"
     ]
    },
    {
     "data": {
      "text/html": [
       "<div>\n",
       "<style scoped>\n",
       "    .dataframe tbody tr th:only-of-type {\n",
       "        vertical-align: middle;\n",
       "    }\n",
       "\n",
       "    .dataframe tbody tr th {\n",
       "        vertical-align: top;\n",
       "    }\n",
       "\n",
       "    .dataframe thead th {\n",
       "        text-align: right;\n",
       "    }\n",
       "</style>\n",
       "<table border=\"1\" class=\"dataframe\">\n",
       "  <thead>\n",
       "    <tr style=\"text-align: right;\">\n",
       "      <th></th>\n",
       "      <th>Customer_care_calls</th>\n",
       "      <th>Customer_rating</th>\n",
       "      <th>Cost_of_the_Product</th>\n",
       "      <th>Prior_purchases</th>\n",
       "      <th>Discount_offered</th>\n",
       "      <th>Weight_in_gms</th>\n",
       "      <th>Reached.on.Time_Y.N</th>\n",
       "    </tr>\n",
       "  </thead>\n",
       "  <tbody>\n",
       "    <tr>\n",
       "      <th>0</th>\n",
       "      <td>4</td>\n",
       "      <td>2</td>\n",
       "      <td>177</td>\n",
       "      <td>3</td>\n",
       "      <td>44</td>\n",
       "      <td>1233</td>\n",
       "      <td>1</td>\n",
       "    </tr>\n",
       "    <tr>\n",
       "      <th>1</th>\n",
       "      <td>4</td>\n",
       "      <td>5</td>\n",
       "      <td>216</td>\n",
       "      <td>2</td>\n",
       "      <td>59</td>\n",
       "      <td>3088</td>\n",
       "      <td>1</td>\n",
       "    </tr>\n",
       "    <tr>\n",
       "      <th>2</th>\n",
       "      <td>2</td>\n",
       "      <td>2</td>\n",
       "      <td>183</td>\n",
       "      <td>4</td>\n",
       "      <td>48</td>\n",
       "      <td>3374</td>\n",
       "      <td>1</td>\n",
       "    </tr>\n",
       "    <tr>\n",
       "      <th>3</th>\n",
       "      <td>3</td>\n",
       "      <td>3</td>\n",
       "      <td>176</td>\n",
       "      <td>4</td>\n",
       "      <td>10</td>\n",
       "      <td>1177</td>\n",
       "      <td>1</td>\n",
       "    </tr>\n",
       "    <tr>\n",
       "      <th>4</th>\n",
       "      <td>2</td>\n",
       "      <td>2</td>\n",
       "      <td>184</td>\n",
       "      <td>3</td>\n",
       "      <td>46</td>\n",
       "      <td>2484</td>\n",
       "      <td>1</td>\n",
       "    </tr>\n",
       "  </tbody>\n",
       "</table>\n",
       "</div>"
      ],
      "text/plain": [
       "   Customer_care_calls  Customer_rating  Cost_of_the_Product  Prior_purchases  \\\n",
       "0                    4                2                  177                3   \n",
       "1                    4                5                  216                2   \n",
       "2                    2                2                  183                4   \n",
       "3                    3                3                  176                4   \n",
       "4                    2                2                  184                3   \n",
       "\n",
       "   Discount_offered  Weight_in_gms  Reached.on.Time_Y.N  \n",
       "0                44           1233                    1  \n",
       "1                59           3088                    1  \n",
       "2                48           3374                    1  \n",
       "3                10           1177                    1  \n",
       "4                46           2484                    1  "
      ]
     },
     "execution_count": 54,
     "metadata": {},
     "output_type": "execute_result"
    }
   ],
   "source": [
    "# list of Numerical Variables\n",
    "numerical_features = [feature for feature in dataset.columns if dataset[feature].dtypes !='O' and feature not in ['ID']]\n",
    "print('Number of Numerical Variables',len(numerical_features))\n",
    "\n",
    "#visualize the numerical variables\n",
    "dataset[numerical_features].head()"
   ]
  },
  {
   "cell_type": "code",
   "execution_count": 55,
   "id": "62698b7f",
   "metadata": {
    "ExecuteTime": {
     "end_time": "2021-09-18T14:54:42.415905Z",
     "start_time": "2021-09-18T14:54:42.405888Z"
    }
   },
   "outputs": [],
   "source": [
    "import numpy as np\n",
    "num_features=['Prior_purchases','Weight_in_gms','Cost_of_the_Product']\n",
    "\n",
    "for feature in num_features:\n",
    "    dataset[feature]=np.log(dataset[feature])"
   ]
  },
  {
   "cell_type": "code",
   "execution_count": 56,
   "id": "fe2b5a2a",
   "metadata": {
    "ExecuteTime": {
     "end_time": "2021-09-18T14:54:43.408221Z",
     "start_time": "2021-09-18T14:54:43.040723Z"
    }
   },
   "outputs": [
    {
     "data": {
      "image/png": "[encoded data removed]",
      "text/plain": [
       "<Figure size 720x360 with 2 Axes>"
      ]
     },
     "metadata": {
      "needs_background": "light"
     },
     "output_type": "display_data"
    }
   ],
   "source": [
    "#Handling Outliers with winsorization\n",
    "from scipy.stats.mstats import winsorize\n",
    "data_win= winsorize(dataset[\"Discount_offered\"],(0,0.10))\n",
    "\n",
    "#Visualization\n",
    "plt.figure(figsize=(10,5))\n",
    "plt.subplot(1,2,1)\n",
    "plt.boxplot(data_win)\n",
    "plt.title(\"Winsorized Data (Discount offered)\",fontsize=12,fontweight=\"bold\")\n",
    "plt.subplot(1,2,2)\n",
    "plt.boxplot(dataset[\"Discount_offered\"].values)\n",
    "plt.title(\"Normal Data (Discount offered)\",fontsize=12,fontweight=\"bold\")\n",
    "plt.show()"
   ]
  },
  {
   "cell_type": "code",
   "execution_count": 57,
   "id": "0ff1722e",
   "metadata": {
    "ExecuteTime": {
     "end_time": "2021-09-18T14:54:43.996995Z",
     "start_time": "2021-09-18T14:54:43.992001Z"
    }
   },
   "outputs": [],
   "source": [
    "winsorized_data = dataset\n",
    "winsorized_data[\"Discount_offered\"] = data_win"
   ]
  },
  {
   "cell_type": "markdown",
   "id": "c9bc4fff",
   "metadata": {},
   "source": [
    "## Categorical Variables"
   ]
  },
  {
   "cell_type": "code",
   "execution_count": 58,
   "id": "a3fd7ffa",
   "metadata": {
    "ExecuteTime": {
     "end_time": "2021-09-18T14:54:45.448218Z",
     "start_time": "2021-09-18T14:54:45.430230Z"
    }
   },
   "outputs": [
    {
     "name": "stdout",
     "output_type": "stream",
     "text": [
      "Number of Categorical Variables 4\n"
     ]
    },
    {
     "data": {
      "text/html": [
       "<div>\n",
       "<style scoped>\n",
       "    .dataframe tbody tr th:only-of-type {\n",
       "        vertical-align: middle;\n",
       "    }\n",
       "\n",
       "    .dataframe tbody tr th {\n",
       "        vertical-align: top;\n",
       "    }\n",
       "\n",
       "    .dataframe thead th {\n",
       "        text-align: right;\n",
       "    }\n",
       "</style>\n",
       "<table border=\"1\" class=\"dataframe\">\n",
       "  <thead>\n",
       "    <tr style=\"text-align: right;\">\n",
       "      <th></th>\n",
       "      <th>Warehouse_block</th>\n",
       "      <th>Mode_of_Shipment</th>\n",
       "      <th>Product_importance</th>\n",
       "      <th>Gender</th>\n",
       "    </tr>\n",
       "  </thead>\n",
       "  <tbody>\n",
       "    <tr>\n",
       "      <th>0</th>\n",
       "      <td>D</td>\n",
       "      <td>Flight</td>\n",
       "      <td>low</td>\n",
       "      <td>F</td>\n",
       "    </tr>\n",
       "    <tr>\n",
       "      <th>1</th>\n",
       "      <td>F</td>\n",
       "      <td>Flight</td>\n",
       "      <td>low</td>\n",
       "      <td>M</td>\n",
       "    </tr>\n",
       "    <tr>\n",
       "      <th>2</th>\n",
       "      <td>A</td>\n",
       "      <td>Flight</td>\n",
       "      <td>low</td>\n",
       "      <td>M</td>\n",
       "    </tr>\n",
       "    <tr>\n",
       "      <th>3</th>\n",
       "      <td>B</td>\n",
       "      <td>Flight</td>\n",
       "      <td>medium</td>\n",
       "      <td>M</td>\n",
       "    </tr>\n",
       "    <tr>\n",
       "      <th>4</th>\n",
       "      <td>C</td>\n",
       "      <td>Flight</td>\n",
       "      <td>medium</td>\n",
       "      <td>F</td>\n",
       "    </tr>\n",
       "  </tbody>\n",
       "</table>\n",
       "</div>"
      ],
      "text/plain": [
       "  Warehouse_block Mode_of_Shipment Product_importance Gender\n",
       "0               D           Flight                low      F\n",
       "1               F           Flight                low      M\n",
       "2               A           Flight                low      M\n",
       "3               B           Flight             medium      M\n",
       "4               C           Flight             medium      F"
      ]
     },
     "execution_count": 58,
     "metadata": {},
     "output_type": "execute_result"
    }
   ],
   "source": [
    "categorical_features = [feature for feature in dataset.columns if dataset[feature].dtypes == 'O']\n",
    "print('Number of Categorical Variables',len(categorical_features))\n",
    "\n",
    "#visualize the categorical variables\n",
    "dataset[categorical_features].head()"
   ]
  },
  {
   "cell_type": "code",
   "execution_count": 59,
   "id": "010c0107",
   "metadata": {
    "ExecuteTime": {
     "end_time": "2021-09-18T14:54:46.263678Z",
     "start_time": "2021-09-18T14:54:46.250687Z"
    }
   },
   "outputs": [
    {
     "name": "stdout",
     "output_type": "stream",
     "text": [
      "The feature is Warehouse_block and number of categories are 5\n",
      "The feature is Mode_of_Shipment and number of categories are 3\n",
      "The feature is Product_importance and number of categories are 3\n",
      "The feature is Gender and number of categories are 2\n"
     ]
    }
   ],
   "source": [
    "for feature in categorical_features:\n",
    "    print('The feature is {} and number of categories are {}'.format(feature,len(dataset[feature].unique())))"
   ]
  },
  {
   "cell_type": "code",
   "execution_count": 60,
   "id": "ce0fa92d",
   "metadata": {
    "ExecuteTime": {
     "end_time": "2021-09-18T14:54:47.133891Z",
     "start_time": "2021-09-18T14:54:47.086919Z"
    }
   },
   "outputs": [],
   "source": [
    "def onehot_encode(dataset, column):\n",
    "    dataset = dataset.copy()\n",
    "    dummies = pd.get_dummies(dataset[column], prefix=column)\n",
    "    dataset = pd.concat([dataset, dummies], axis=1)\n",
    "    dataset = dataset.drop(column, axis=1)\n",
    "    return dataset\n",
    "# Binary encoding\n",
    "dataset['Gender'] = dataset['Gender'].replace({'F': 0, 'M': 1})\n",
    "    \n",
    "# One-hot encoding\n",
    "for column in ['Warehouse_block', 'Mode_of_Shipment', 'Product_importance']:\n",
    "    dataset = onehot_encode(dataset, column=column)"
   ]
  },
  {
   "cell_type": "markdown",
   "id": "fee6a996",
   "metadata": {},
   "source": [
    "# Feature Scaling"
   ]
  },
  {
   "cell_type": "code",
   "execution_count": 61,
   "id": "5ee8b539",
   "metadata": {
    "ExecuteTime": {
     "end_time": "2021-09-18T14:54:48.801353Z",
     "start_time": "2021-09-18T14:54:48.783384Z"
    }
   },
   "outputs": [
    {
     "data": {
      "text/plain": [
       "MinMaxScaler()"
      ]
     },
     "execution_count": 61,
     "metadata": {},
     "output_type": "execute_result"
    }
   ],
   "source": [
    "feature_scale = [feature for feature in dataset.columns if feature not in ['Reached.on.Time_Y.N']]\n",
    "\n",
    "from sklearn.preprocessing import MinMaxScaler\n",
    "scaler = MinMaxScaler()\n",
    "scaler.fit(dataset[feature_scale])"
   ]
  },
  {
   "cell_type": "code",
   "execution_count": 62,
   "id": "143fb9bb",
   "metadata": {
    "ExecuteTime": {
     "end_time": "2021-09-18T14:54:49.551553Z",
     "start_time": "2021-09-18T14:54:49.529550Z"
    }
   },
   "outputs": [],
   "source": [
    "dataset = pd.concat([dataset[[\"ID\",\"Reached.on.Time_Y.N\"]].reset_index(drop=True), pd.DataFrame(scaler.transform(dataset[feature_scale]),columns=feature_scale)],axis=1)"
   ]
  },
  {
   "cell_type": "markdown",
   "id": "8895739a",
   "metadata": {
    "ExecuteTime": {
     "end_time": "2021-09-17T11:30:38.036261Z",
     "start_time": "2021-09-17T11:30:38.020263Z"
    }
   },
   "source": [
    "# Balancing Data"
   ]
  },
  {
   "cell_type": "code",
   "execution_count": 63,
   "id": "96c3a445",
   "metadata": {
    "ExecuteTime": {
     "end_time": "2021-09-18T14:54:52.059996Z",
     "start_time": "2021-09-18T14:54:52.047006Z"
    }
   },
   "outputs": [],
   "source": [
    "#### Independent and Dependent Features\n",
    "X=dataset.drop([\"Reached.on.Time_Y.N\",\"ID\"],axis=1)\n",
    "y=dataset['Reached.on.Time_Y.N']"
   ]
  },
  {
   "cell_type": "code",
   "execution_count": 78,
   "id": "1b1bbf46",
   "metadata": {
    "ExecuteTime": {
     "end_time": "2021-09-18T14:57:46.605010Z",
     "start_time": "2021-09-18T14:57:46.592993Z"
    }
   },
   "outputs": [],
   "source": [
    "from sklearn.model_selection import train_test_split\n",
    "X_train,X_test,y_train,y_test=train_test_split(X,y,train_size=0.8)"
   ]
  },
  {
   "cell_type": "markdown",
   "id": "9d8bb323",
   "metadata": {},
   "source": [
    "### Train Data"
   ]
  },
  {
   "cell_type": "markdown",
   "id": "add24afd",
   "metadata": {},
   "source": [
    "### Standard Random Forest"
   ]
  },
  {
   "cell_type": "code",
   "execution_count": 79,
   "id": "6d805675",
   "metadata": {
    "ExecuteTime": {
     "end_time": "2021-09-18T14:57:47.272743Z",
     "start_time": "2021-09-18T14:57:47.264748Z"
    }
   },
   "outputs": [],
   "source": [
    "# random forest for imbalanced classification\n",
    "from numpy import mean\n",
    "from sklearn.datasets import make_classification\n",
    "from sklearn.model_selection import cross_val_score\n",
    "from sklearn.model_selection import RepeatedStratifiedKFold\n",
    "from sklearn.ensemble import RandomForestClassifier"
   ]
  },
  {
   "cell_type": "code",
   "execution_count": 80,
   "id": "d6f56aae",
   "metadata": {
    "ExecuteTime": {
     "end_time": "2021-09-18T14:57:48.009946Z",
     "start_time": "2021-09-18T14:57:47.995954Z"
    }
   },
   "outputs": [],
   "source": [
    "# generate dataset\n",
    "X_train,y_train = make_classification(n_samples=10000, n_features=2, n_redundant=0,\n",
    "n_clusters_per_class=1, weights=[0.99], flip_y=0, random_state=4)"
   ]
  },
  {
   "cell_type": "code",
   "execution_count": 81,
   "id": "9779fb49",
   "metadata": {
    "ExecuteTime": {
     "end_time": "2021-09-18T14:57:49.521086Z",
     "start_time": "2021-09-18T14:57:49.517086Z"
    }
   },
   "outputs": [],
   "source": [
    "# define model\n",
    "model1 = RandomForestClassifier(n_estimators=10)"
   ]
  },
  {
   "cell_type": "code",
   "execution_count": 82,
   "id": "5c2b1c24",
   "metadata": {
    "ExecuteTime": {
     "end_time": "2021-09-18T14:57:50.429773Z",
     "start_time": "2021-09-18T14:57:50.425772Z"
    }
   },
   "outputs": [],
   "source": [
    "# generate dataset\n",
    "cv = RepeatedStratifiedKFold(n_splits=10, n_repeats=3, random_state=1)"
   ]
  },
  {
   "cell_type": "code",
   "execution_count": 88,
   "id": "0de0e2f1",
   "metadata": {
    "ExecuteTime": {
     "end_time": "2021-09-18T14:59:59.636554Z",
     "start_time": "2021-09-18T14:59:58.340467Z"
    }
   },
   "outputs": [],
   "source": [
    "# evaluate model\n",
    "scores1 = cross_val_score(model1, X_train, y_train, scoring='roc_auc', cv=cv, n_jobs=-1)"
   ]
  },
  {
   "cell_type": "code",
   "execution_count": 89,
   "id": "43e4d986",
   "metadata": {
    "ExecuteTime": {
     "end_time": "2021-09-18T14:59:59.860015Z",
     "start_time": "2021-09-18T14:59:59.854015Z"
    }
   },
   "outputs": [
    {
     "name": "stdout",
     "output_type": "stream",
     "text": [
      "Mean ROC AUC: 0.876\n"
     ]
    }
   ],
   "source": [
    "# summarize performance\n",
    "print('Mean ROC AUC: %.3f' % mean(scores1))"
   ]
  },
  {
   "cell_type": "markdown",
   "id": "fb446a1a",
   "metadata": {},
   "source": [
    "### Random Forest With Class Weighting"
   ]
  },
  {
   "cell_type": "code",
   "execution_count": 90,
   "id": "0b8331b2",
   "metadata": {
    "ExecuteTime": {
     "end_time": "2021-09-18T15:00:01.937920Z",
     "start_time": "2021-09-18T15:00:01.933921Z"
    }
   },
   "outputs": [],
   "source": [
    "# class balanced random forest for imbalanced classification\n",
    "from numpy import mean\n",
    "from sklearn.datasets import make_classification\n",
    "from sklearn.model_selection import cross_val_score\n",
    "from sklearn.model_selection import RepeatedStratifiedKFold\n",
    "from sklearn.ensemble import RandomForestClassifier"
   ]
  },
  {
   "cell_type": "code",
   "execution_count": 91,
   "id": "9f10ef3d",
   "metadata": {
    "ExecuteTime": {
     "end_time": "2021-09-18T15:00:09.026065Z",
     "start_time": "2021-09-18T15:00:09.016070Z"
    }
   },
   "outputs": [],
   "source": [
    "# generate dataset\n",
    "X_train, y_train = make_classification(n_samples=10000, n_features=2, n_redundant=0,\n",
    "n_clusters_per_class=1, weights=[0.99], flip_y=0, random_state=4)"
   ]
  },
  {
   "cell_type": "code",
   "execution_count": 92,
   "id": "f20507a4",
   "metadata": {
    "ExecuteTime": {
     "end_time": "2021-09-18T15:00:10.010486Z",
     "start_time": "2021-09-18T15:00:10.005492Z"
    }
   },
   "outputs": [],
   "source": [
    "# define model\n",
    "model2 = RandomForestClassifier(n_estimators=10, class_weight='balanced')"
   ]
  },
  {
   "cell_type": "code",
   "execution_count": 93,
   "id": "a5a11580",
   "metadata": {
    "ExecuteTime": {
     "end_time": "2021-09-18T15:00:13.978243Z",
     "start_time": "2021-09-18T15:00:13.973244Z"
    }
   },
   "outputs": [],
   "source": [
    "# define evaluation procedure\n",
    "cv = RepeatedStratifiedKFold(n_splits=10, n_repeats=3, random_state=1)"
   ]
  },
  {
   "cell_type": "code",
   "execution_count": 94,
   "id": "9c538c0b",
   "metadata": {
    "ExecuteTime": {
     "end_time": "2021-09-18T15:00:23.604189Z",
     "start_time": "2021-09-18T15:00:22.563894Z"
    }
   },
   "outputs": [],
   "source": [
    "# evaluate model\n",
    "scores2 = cross_val_score(model2, X_train, y_train, scoring='roc_auc', cv=cv, n_jobs=-1)"
   ]
  },
  {
   "cell_type": "code",
   "execution_count": 95,
   "id": "c30de384",
   "metadata": {
    "ExecuteTime": {
     "end_time": "2021-09-18T15:00:24.866038Z",
     "start_time": "2021-09-18T15:00:24.859043Z"
    }
   },
   "outputs": [
    {
     "name": "stdout",
     "output_type": "stream",
     "text": [
      "Mean ROC AUC: 0.872\n"
     ]
    }
   ],
   "source": [
    "# summarize performance\n",
    "print('Mean ROC AUC: %.3f' % mean(scores2))"
   ]
  },
  {
   "cell_type": "markdown",
   "id": "0636857e",
   "metadata": {},
   "source": [
    "### Random Forest With Bootstrap Class Weighting"
   ]
  },
  {
   "cell_type": "code",
   "execution_count": 96,
   "id": "757b3b44",
   "metadata": {
    "ExecuteTime": {
     "end_time": "2021-09-18T15:00:30.196468Z",
     "start_time": "2021-09-18T15:00:30.191467Z"
    }
   },
   "outputs": [],
   "source": [
    "# bootstrap class balanced random forest for imbalanced classification\n",
    "from numpy import mean\n",
    "from sklearn.datasets import make_classification\n",
    "from sklearn.model_selection import cross_val_score\n",
    "from sklearn.model_selection import RepeatedStratifiedKFold\n",
    "from sklearn.ensemble import RandomForestClassifier"
   ]
  },
  {
   "cell_type": "code",
   "execution_count": 97,
   "id": "1919e4cb",
   "metadata": {
    "ExecuteTime": {
     "end_time": "2021-09-18T15:00:40.660941Z",
     "start_time": "2021-09-18T15:00:40.652947Z"
    }
   },
   "outputs": [],
   "source": [
    "# generate dataset\n",
    "X_train, y_train = make_classification(n_samples=10000, n_features=2, n_redundant=0,\n",
    "n_clusters_per_class=1, weights=[0.99], flip_y=0, random_state=4)"
   ]
  },
  {
   "cell_type": "code",
   "execution_count": 98,
   "id": "7b4cd1ff",
   "metadata": {
    "ExecuteTime": {
     "end_time": "2021-09-18T15:00:41.678622Z",
     "start_time": "2021-09-18T15:00:41.674622Z"
    }
   },
   "outputs": [],
   "source": [
    "# define model\n",
    "model3 = RandomForestClassifier(n_estimators=10, class_weight='balanced_subsample')"
   ]
  },
  {
   "cell_type": "code",
   "execution_count": 99,
   "id": "c9828728",
   "metadata": {
    "ExecuteTime": {
     "end_time": "2021-09-18T15:00:42.693396Z",
     "start_time": "2021-09-18T15:00:42.689419Z"
    }
   },
   "outputs": [],
   "source": [
    "# define evaluation procedure\n",
    "cv = RepeatedStratifiedKFold(n_splits=10, n_repeats=3, random_state=1)"
   ]
  },
  {
   "cell_type": "code",
   "execution_count": 100,
   "id": "0ae4b424",
   "metadata": {
    "ExecuteTime": {
     "end_time": "2021-09-18T15:00:54.175262Z",
     "start_time": "2021-09-18T15:00:52.711484Z"
    }
   },
   "outputs": [],
   "source": [
    "# evaluate model\n",
    "scores3 = cross_val_score(model3, X_train, y_train, scoring='roc_auc', cv=cv, n_jobs=-1)"
   ]
  },
  {
   "cell_type": "code",
   "execution_count": 101,
   "id": "7135d873",
   "metadata": {
    "ExecuteTime": {
     "end_time": "2021-09-18T15:00:55.069925Z",
     "start_time": "2021-09-18T15:00:55.063926Z"
    }
   },
   "outputs": [
    {
     "name": "stdout",
     "output_type": "stream",
     "text": [
      "Mean ROC AUC: 0.869\n"
     ]
    }
   ],
   "source": [
    "# summarize performance\n",
    "print('Mean ROC AUC: %.3f' % mean(scores3))"
   ]
  },
  {
   "cell_type": "markdown",
   "id": "6a15c478",
   "metadata": {},
   "source": [
    "### Random Forest With Random Undersampling"
   ]
  },
  {
   "cell_type": "code",
   "execution_count": 102,
   "id": "310a0812",
   "metadata": {
    "ExecuteTime": {
     "end_time": "2021-09-18T15:01:02.630905Z",
     "start_time": "2021-09-18T15:01:02.624931Z"
    }
   },
   "outputs": [],
   "source": [
    "# random forest with random undersampling for imbalanced classification\n",
    "from numpy import mean\n",
    "from sklearn.datasets import make_classification\n",
    "from sklearn.model_selection import cross_val_score\n",
    "from sklearn.model_selection import RepeatedStratifiedKFold\n",
    "from imblearn.ensemble import BalancedRandomForestClassifier### Random Forest With Bootstrap Class Weighting"
   ]
  },
  {
   "cell_type": "code",
   "execution_count": 103,
   "id": "c2596889",
   "metadata": {
    "ExecuteTime": {
     "end_time": "2021-09-18T15:01:20.392052Z",
     "start_time": "2021-09-18T15:01:20.381175Z"
    }
   },
   "outputs": [],
   "source": [
    "# generate dataset\n",
    "X_train, y_train = make_classification(n_samples=10000, n_features=2, n_redundant=0,\n",
    "n_clusters_per_class=1, weights=[0.99], flip_y=0, random_state=4)"
   ]
  },
  {
   "cell_type": "code",
   "execution_count": 104,
   "id": "592d8543",
   "metadata": {
    "ExecuteTime": {
     "end_time": "2021-09-18T15:01:22.334100Z",
     "start_time": "2021-09-18T15:01:22.329105Z"
    }
   },
   "outputs": [],
   "source": [
    "# define model\n",
    "model4 = BalancedRandomForestClassifier(n_estimators=10)"
   ]
  },
  {
   "cell_type": "code",
   "execution_count": 105,
   "id": "81eab6f6",
   "metadata": {
    "ExecuteTime": {
     "end_time": "2021-09-18T15:01:23.415987Z",
     "start_time": "2021-09-18T15:01:23.409989Z"
    }
   },
   "outputs": [],
   "source": [
    "# define evaluation procedure\n",
    "cv = RepeatedStratifiedKFold(n_splits=10, n_repeats=3, random_state=1)"
   ]
  },
  {
   "cell_type": "code",
   "execution_count": 106,
   "id": "a8c2c00f",
   "metadata": {
    "ExecuteTime": {
     "end_time": "2021-09-18T15:01:32.824035Z",
     "start_time": "2021-09-18T15:01:31.432384Z"
    }
   },
   "outputs": [],
   "source": [
    "# evaluate model\n",
    "scores4 = cross_val_score(model4, X_train, y_train, scoring='roc_auc', cv=cv, n_jobs=-1)"
   ]
  },
  {
   "cell_type": "code",
   "execution_count": 107,
   "id": "ecd1a5ab",
   "metadata": {
    "ExecuteTime": {
     "end_time": "2021-09-18T15:01:41.528191Z",
     "start_time": "2021-09-18T15:01:41.522235Z"
    }
   },
   "outputs": [
    {
     "name": "stdout",
     "output_type": "stream",
     "text": [
      "Mean ROC AUC: 0.961\n"
     ]
    }
   ],
   "source": [
    "# summarize performance\n",
    "print('Mean ROC AUC: %.3f' % mean(scores4))"
   ]
  },
  {
   "cell_type": "markdown",
   "id": "28499748",
   "metadata": {},
   "source": [
    "### Easy Ensemble"
   ]
  },
  {
   "cell_type": "code",
   "execution_count": 108,
   "id": "5fca2cd6",
   "metadata": {
    "ExecuteTime": {
     "end_time": "2021-09-18T15:01:44.910956Z",
     "start_time": "2021-09-18T15:01:44.905957Z"
    }
   },
   "outputs": [],
   "source": [
    "# easy ensemble for imbalanced classification\n",
    "from numpy import mean\n",
    "from sklearn.datasets import make_classification\n",
    "from sklearn.model_selection import cross_val_score\n",
    "from sklearn.model_selection import RepeatedStratifiedKFold\n",
    "from imblearn.ensemble import EasyEnsembleClassifier"
   ]
  },
  {
   "cell_type": "code",
   "execution_count": 109,
   "id": "92fbb74f",
   "metadata": {
    "ExecuteTime": {
     "end_time": "2021-09-18T15:02:04.191482Z",
     "start_time": "2021-09-18T15:02:04.179488Z"
    }
   },
   "outputs": [],
   "source": [
    "# generate dataset\n",
    "X_train, y_train = make_classification(n_samples=10000, n_features=2, n_redundant=0,\n",
    "n_clusters_per_class=1, weights=[0.99], flip_y=0, random_state=4)"
   ]
  },
  {
   "cell_type": "code",
   "execution_count": 110,
   "id": "a4dbd308",
   "metadata": {
    "ExecuteTime": {
     "end_time": "2021-09-18T15:04:28.629165Z",
     "start_time": "2021-09-18T15:04:28.624724Z"
    }
   },
   "outputs": [],
   "source": [
    "# define model\n",
    "model5 = EasyEnsembleClassifier(n_estimators=10)"
   ]
  },
  {
   "cell_type": "code",
   "execution_count": 111,
   "id": "3c2502ef",
   "metadata": {
    "ExecuteTime": {
     "end_time": "2021-09-18T15:04:31.511896Z",
     "start_time": "2021-09-18T15:04:31.506920Z"
    }
   },
   "outputs": [],
   "source": [
    "# define evaluation procedure\n",
    "cv = RepeatedStratifiedKFold(n_splits=10, n_repeats=3, random_state=1)"
   ]
  },
  {
   "cell_type": "code",
   "execution_count": 112,
   "id": "ff239124",
   "metadata": {
    "ExecuteTime": {
     "end_time": "2021-09-18T15:04:54.030358Z",
     "start_time": "2021-09-18T15:04:38.938594Z"
    }
   },
   "outputs": [],
   "source": [
    "# evaluate model\n",
    "scores5 = cross_val_score(model5, X_train, y_train, scoring='roc_auc', cv=cv, n_jobs=-1)"
   ]
  },
  {
   "cell_type": "code",
   "execution_count": 113,
   "id": "a07ef480",
   "metadata": {
    "ExecuteTime": {
     "end_time": "2021-09-18T15:04:54.256559Z",
     "start_time": "2021-09-18T15:04:54.246564Z"
    }
   },
   "outputs": [
    {
     "name": "stdout",
     "output_type": "stream",
     "text": [
      "Mean ROC AUC: 0.963\n"
     ]
    }
   ],
   "source": [
    "# summarize performance\n",
    "print('Mean ROC AUC: %.3f' % mean(scores5))"
   ]
  },
  {
   "cell_type": "code",
   "execution_count": 114,
   "id": "00d89b86",
   "metadata": {
    "ExecuteTime": {
     "end_time": "2021-09-18T15:05:19.099729Z",
     "start_time": "2021-09-18T15:05:19.082717Z"
    }
   },
   "outputs": [
    {
     "data": {
      "text/html": [
       "<div>\n",
       "<style scoped>\n",
       "    .dataframe tbody tr th:only-of-type {\n",
       "        vertical-align: middle;\n",
       "    }\n",
       "\n",
       "    .dataframe tbody tr th {\n",
       "        vertical-align: top;\n",
       "    }\n",
       "\n",
       "    .dataframe thead th {\n",
       "        text-align: right;\n",
       "    }\n",
       "</style>\n",
       "<table border=\"1\" class=\"dataframe\">\n",
       "  <thead>\n",
       "    <tr style=\"text-align: right;\">\n",
       "      <th></th>\n",
       "      <th>MODEL</th>\n",
       "      <th>Mean ROC AUC</th>\n",
       "    </tr>\n",
       "  </thead>\n",
       "  <tbody>\n",
       "    <tr>\n",
       "      <th>0</th>\n",
       "      <td>Standard Random Forest</td>\n",
       "      <td>0.875747</td>\n",
       "    </tr>\n",
       "    <tr>\n",
       "      <th>1</th>\n",
       "      <td>Random Forest With Class Weighting</td>\n",
       "      <td>0.872325</td>\n",
       "    </tr>\n",
       "    <tr>\n",
       "      <th>2</th>\n",
       "      <td>Random Forest With Bootstrap Class Weighting</td>\n",
       "      <td>0.869113</td>\n",
       "    </tr>\n",
       "    <tr>\n",
       "      <th>3</th>\n",
       "      <td>Random Forest With Random Undersampling</td>\n",
       "      <td>0.960539</td>\n",
       "    </tr>\n",
       "    <tr>\n",
       "      <th>4</th>\n",
       "      <td>Easy Ensemble</td>\n",
       "      <td>0.963258</td>\n",
       "    </tr>\n",
       "  </tbody>\n",
       "</table>\n",
       "</div>"
      ],
      "text/plain": [
       "                                          MODEL  Mean ROC AUC\n",
       "0                        Standard Random Forest      0.875747\n",
       "1            Random Forest With Class Weighting      0.872325\n",
       "2  Random Forest With Bootstrap Class Weighting      0.869113\n",
       "3       Random Forest With Random Undersampling      0.960539\n",
       "4                                 Easy Ensemble      0.963258"
      ]
     },
     "execution_count": 114,
     "metadata": {},
     "output_type": "execute_result"
    }
   ],
   "source": [
    "data = {\"MODEL\":pd.Series(['Standard Random Forest','Random Forest With Class Weighting','Random Forest With Bootstrap Class Weighting','Random Forest With Random Undersampling','Easy Ensemble']),\n",
    "        \"Mean ROC AUC\":pd.Series([mean(scores1),mean(scores2),mean(scores3),mean(scores4),mean(scores5)])}\n",
    "table=pd.DataFrame(data)\n",
    "table "
   ]
  },
  {
   "cell_type": "markdown",
   "id": "9fc03cf0",
   "metadata": {},
   "source": [
    "### Test Data"
   ]
  },
  {
   "cell_type": "markdown",
   "id": "e8340953",
   "metadata": {},
   "source": [
    "### Standard Random Forest"
   ]
  },
  {
   "cell_type": "code",
   "execution_count": 115,
   "id": "2d6c1d1a",
   "metadata": {
    "ExecuteTime": {
     "end_time": "2021-09-18T15:09:55.505535Z",
     "start_time": "2021-09-18T15:09:55.500537Z"
    }
   },
   "outputs": [],
   "source": [
    "# random forest for imbalanced classification\n",
    "from numpy import mean\n",
    "from sklearn.datasets import make_classification\n",
    "from sklearn.model_selection import cross_val_score\n",
    "from sklearn.model_selection import RepeatedStratifiedKFold\n",
    "from sklearn.ensemble import RandomForestClassifier"
   ]
  },
  {
   "cell_type": "code",
   "execution_count": 116,
   "id": "044deaac",
   "metadata": {
    "ExecuteTime": {
     "end_time": "2021-09-18T15:10:09.988844Z",
     "start_time": "2021-09-18T15:10:09.978849Z"
    }
   },
   "outputs": [],
   "source": [
    "# generate dataset\n",
    "X_test,y_test = make_classification(n_samples=10000, n_features=2, n_redundant=0,\n",
    "n_clusters_per_class=1, weights=[0.99], flip_y=0, random_state=4)"
   ]
  },
  {
   "cell_type": "code",
   "execution_count": 117,
   "id": "1d797494",
   "metadata": {
    "ExecuteTime": {
     "end_time": "2021-09-18T15:10:26.922298Z",
     "start_time": "2021-09-18T15:10:26.917300Z"
    }
   },
   "outputs": [],
   "source": [
    "# define model\n",
    "model1 = RandomForestClassifier(n_estimators=10)"
   ]
  },
  {
   "cell_type": "code",
   "execution_count": 118,
   "id": "24ab649d",
   "metadata": {
    "ExecuteTime": {
     "end_time": "2021-09-18T15:10:41.968993Z",
     "start_time": "2021-09-18T15:10:41.962996Z"
    }
   },
   "outputs": [],
   "source": [
    "# generate dataset\n",
    "cv = RepeatedStratifiedKFold(n_splits=10, n_repeats=3, random_state=1)"
   ]
  },
  {
   "cell_type": "code",
   "execution_count": 120,
   "id": "611ab2e1",
   "metadata": {
    "ExecuteTime": {
     "end_time": "2021-09-18T15:12:33.416653Z",
     "start_time": "2021-09-18T15:12:32.183599Z"
    }
   },
   "outputs": [],
   "source": [
    "# evaluate model\n",
    "scores1 = cross_val_score(model1, X_test, y_test, scoring='roc_auc', cv=cv, n_jobs=-1)"
   ]
  },
  {
   "cell_type": "code",
   "execution_count": 121,
   "id": "30d8199e",
   "metadata": {
    "ExecuteTime": {
     "end_time": "2021-09-18T15:13:51.255468Z",
     "start_time": "2021-09-18T15:13:51.249471Z"
    }
   },
   "outputs": [
    {
     "name": "stdout",
     "output_type": "stream",
     "text": [
      "Mean ROC AUC: 0.874\n"
     ]
    }
   ],
   "source": [
    "# summarize performance\n",
    "print('Mean ROC AUC: %.3f' % mean(scores1))"
   ]
  },
  {
   "cell_type": "markdown",
   "id": "b380b51a",
   "metadata": {},
   "source": [
    "### Random Forest With Class Weighting"
   ]
  },
  {
   "cell_type": "code",
   "execution_count": 122,
   "id": "253a6f6c",
   "metadata": {
    "ExecuteTime": {
     "end_time": "2021-09-18T15:15:47.330873Z",
     "start_time": "2021-09-18T15:15:47.323877Z"
    }
   },
   "outputs": [],
   "source": [
    "# class balanced random forest for imbalanced classification\n",
    "from numpy import mean\n",
    "from sklearn.datasets import make_classification\n",
    "from sklearn.model_selection import cross_val_score\n",
    "from sklearn.model_selection import RepeatedStratifiedKFold\n",
    "from sklearn.ensemble import RandomForestClassifier"
   ]
  },
  {
   "cell_type": "code",
   "execution_count": 123,
   "id": "e2ec7ede",
   "metadata": {
    "ExecuteTime": {
     "end_time": "2021-09-18T15:16:00.243478Z",
     "start_time": "2021-09-18T15:16:00.233484Z"
    }
   },
   "outputs": [],
   "source": [
    "# generate dataset\n",
    "X_test,y_test = make_classification(n_samples=10000, n_features=2, n_redundant=0,\n",
    "n_clusters_per_class=1, weights=[0.99], flip_y=0, random_state=4)"
   ]
  },
  {
   "cell_type": "code",
   "execution_count": 124,
   "id": "e3aed585",
   "metadata": {
    "ExecuteTime": {
     "end_time": "2021-09-18T15:16:08.824177Z",
     "start_time": "2021-09-18T15:16:08.819180Z"
    }
   },
   "outputs": [],
   "source": [
    "# define model\n",
    "model2 = RandomForestClassifier(n_estimators=10, class_weight='balanced')"
   ]
  },
  {
   "cell_type": "code",
   "execution_count": 125,
   "id": "32bd4024",
   "metadata": {
    "ExecuteTime": {
     "end_time": "2021-09-18T15:16:20.145166Z",
     "start_time": "2021-09-18T15:16:20.140167Z"
    }
   },
   "outputs": [],
   "source": [
    "# define evaluation procedure\n",
    "cv = RepeatedStratifiedKFold(n_splits=10, n_repeats=3, random_state=1)"
   ]
  },
  {
   "cell_type": "code",
   "execution_count": 126,
   "id": "63eed523",
   "metadata": {
    "ExecuteTime": {
     "end_time": "2021-09-18T15:16:42.527954Z",
     "start_time": "2021-09-18T15:16:41.383685Z"
    }
   },
   "outputs": [],
   "source": [
    "# evaluate model\n",
    "scores2 = cross_val_score(model2, X_test, y_test, scoring='roc_auc', cv=cv, n_jobs=-1)"
   ]
  },
  {
   "cell_type": "code",
   "execution_count": 127,
   "id": "04034685",
   "metadata": {
    "ExecuteTime": {
     "end_time": "2021-09-18T15:16:52.969499Z",
     "start_time": "2021-09-18T15:16:52.963502Z"
    }
   },
   "outputs": [
    {
     "name": "stdout",
     "output_type": "stream",
     "text": [
      "Mean ROC AUC: 0.876\n"
     ]
    }
   ],
   "source": [
    "# summarize performance\n",
    "print('Mean ROC AUC: %.3f' % mean(scores2))"
   ]
  },
  {
   "cell_type": "markdown",
   "id": "e6462afb",
   "metadata": {},
   "source": [
    "### Random Forest With Bootstrap Class Weighting"
   ]
  },
  {
   "cell_type": "code",
   "execution_count": 128,
   "id": "4d079a1c",
   "metadata": {
    "ExecuteTime": {
     "end_time": "2021-09-18T15:17:45.604670Z",
     "start_time": "2021-09-18T15:17:45.598692Z"
    }
   },
   "outputs": [],
   "source": [
    "# bootstrap class balanced random forest for imbalanced classification\n",
    "from numpy import mean\n",
    "from sklearn.datasets import make_classification\n",
    "from sklearn.model_selection import cross_val_score\n",
    "from sklearn.model_selection import RepeatedStratifiedKFold\n",
    "from sklearn.ensemble import RandomForestClassifier"
   ]
  },
  {
   "cell_type": "code",
   "execution_count": 129,
   "id": "ffea056f",
   "metadata": {
    "ExecuteTime": {
     "end_time": "2021-09-18T15:17:59.791514Z",
     "start_time": "2021-09-18T15:17:59.780520Z"
    }
   },
   "outputs": [],
   "source": [
    "# generate dataset\n",
    "X_test,y_test = make_classification(n_samples=10000, n_features=2, n_redundant=0,\n",
    "n_clusters_per_class=1, weights=[0.99], flip_y=0, random_state=4)"
   ]
  },
  {
   "cell_type": "code",
   "execution_count": 130,
   "id": "53b70259",
   "metadata": {
    "ExecuteTime": {
     "end_time": "2021-09-18T15:18:28.562648Z",
     "start_time": "2021-09-18T15:18:28.556670Z"
    }
   },
   "outputs": [],
   "source": [
    "# define model\n",
    "model3 = RandomForestClassifier(n_estimators=10, class_weight='balanced_subsample')"
   ]
  },
  {
   "cell_type": "code",
   "execution_count": 131,
   "id": "c1e49974",
   "metadata": {
    "ExecuteTime": {
     "end_time": "2021-09-18T15:18:51.309911Z",
     "start_time": "2021-09-18T15:18:51.303937Z"
    }
   },
   "outputs": [],
   "source": [
    "# define evaluation procedure\n",
    "cv = RepeatedStratifiedKFold(n_splits=10, n_repeats=3, random_state=1)"
   ]
  },
  {
   "cell_type": "code",
   "execution_count": 132,
   "id": "765dee4f",
   "metadata": {
    "ExecuteTime": {
     "end_time": "2021-09-18T15:19:38.732727Z",
     "start_time": "2021-09-18T15:19:37.157145Z"
    }
   },
   "outputs": [],
   "source": [
    "# evaluate model\n",
    "scores3 = cross_val_score(model3, X_test, y_test, scoring='roc_auc', cv=cv, n_jobs=-1)"
   ]
  },
  {
   "cell_type": "code",
   "execution_count": 133,
   "id": "a3d7eece",
   "metadata": {
    "ExecuteTime": {
     "end_time": "2021-09-18T15:19:47.365052Z",
     "start_time": "2021-09-18T15:19:47.360054Z"
    }
   },
   "outputs": [
    {
     "name": "stdout",
     "output_type": "stream",
     "text": [
      "Mean ROC AUC: 0.881\n"
     ]
    }
   ],
   "source": [
    "# summarize performance\n",
    "print('Mean ROC AUC: %.3f' % mean(scores3))"
   ]
  },
  {
   "cell_type": "markdown",
   "id": "a9b2d65d",
   "metadata": {},
   "source": [
    "### Random Forest With Random Undersampling"
   ]
  },
  {
   "cell_type": "code",
   "execution_count": 134,
   "id": "f58ad6eb",
   "metadata": {
    "ExecuteTime": {
     "end_time": "2021-09-18T15:20:16.740128Z",
     "start_time": "2021-09-18T15:20:16.724502Z"
    }
   },
   "outputs": [],
   "source": [
    "# random forest with random undersampling for imbalanced classification\n",
    "from numpy import mean\n",
    "from sklearn.datasets import make_classification\n",
    "from sklearn.model_selection import cross_val_score\n",
    "from sklearn.model_selection import RepeatedStratifiedKFold\n",
    "from imblearn.ensemble import BalancedRandomForestClassifier### Random Forest With Bootstrap Class Weighting"
   ]
  },
  {
   "cell_type": "code",
   "execution_count": 135,
   "id": "4a67e249",
   "metadata": {
    "ExecuteTime": {
     "end_time": "2021-09-18T15:20:31.626017Z",
     "start_time": "2021-09-18T15:20:31.617022Z"
    }
   },
   "outputs": [],
   "source": [
    "# generate dataset\n",
    "X_test,y_test = make_classification(n_samples=10000, n_features=2, n_redundant=0,\n",
    "n_clusters_per_class=1, weights=[0.99], flip_y=0, random_state=4)"
   ]
  },
  {
   "cell_type": "code",
   "execution_count": 136,
   "id": "910fd960",
   "metadata": {
    "ExecuteTime": {
     "end_time": "2021-09-18T15:20:41.974677Z",
     "start_time": "2021-09-18T15:20:41.969681Z"
    }
   },
   "outputs": [],
   "source": [
    "# define model\n",
    "model4 = BalancedRandomForestClassifier(n_estimators=10)"
   ]
  },
  {
   "cell_type": "code",
   "execution_count": 137,
   "id": "19fa6dc6",
   "metadata": {
    "ExecuteTime": {
     "end_time": "2021-09-18T15:20:49.592606Z",
     "start_time": "2021-09-18T15:20:49.588512Z"
    }
   },
   "outputs": [],
   "source": [
    "# define evaluation procedure\n",
    "cv = RepeatedStratifiedKFold(n_splits=10, n_repeats=3, random_state=1)"
   ]
  },
  {
   "cell_type": "code",
   "execution_count": 138,
   "id": "8cbb906b",
   "metadata": {
    "ExecuteTime": {
     "end_time": "2021-09-18T15:21:08.379416Z",
     "start_time": "2021-09-18T15:21:06.220682Z"
    }
   },
   "outputs": [],
   "source": [
    "# evaluate model\n",
    "scores4 = cross_val_score(model4, X_test, y_test, scoring='roc_auc', cv=cv, n_jobs=-1)"
   ]
  },
  {
   "cell_type": "code",
   "execution_count": 139,
   "id": "65bce74c",
   "metadata": {
    "ExecuteTime": {
     "end_time": "2021-09-18T15:21:13.949660Z",
     "start_time": "2021-09-18T15:21:13.945663Z"
    }
   },
   "outputs": [
    {
     "name": "stdout",
     "output_type": "stream",
     "text": [
      "Mean ROC AUC: 0.966\n"
     ]
    }
   ],
   "source": [
    "# summarize performance\n",
    "print('Mean ROC AUC: %.3f' % mean(scores4))"
   ]
  },
  {
   "cell_type": "markdown",
   "id": "a3f5f0eb",
   "metadata": {},
   "source": [
    "### Easy Ensemble"
   ]
  },
  {
   "cell_type": "code",
   "execution_count": 140,
   "id": "734d445c",
   "metadata": {
    "ExecuteTime": {
     "end_time": "2021-09-18T15:21:35.069650Z",
     "start_time": "2021-09-18T15:21:35.064652Z"
    }
   },
   "outputs": [],
   "source": [
    "# easy ensemble for imbalanced classification\n",
    "from numpy import mean\n",
    "from sklearn.datasets import make_classification\n",
    "from sklearn.model_selection import cross_val_score\n",
    "from sklearn.model_selection import RepeatedStratifiedKFold\n",
    "from imblearn.ensemble import EasyEnsembleClassifier"
   ]
  },
  {
   "cell_type": "code",
   "execution_count": 142,
   "id": "bf68579d",
   "metadata": {
    "ExecuteTime": {
     "end_time": "2021-09-18T15:22:10.371772Z",
     "start_time": "2021-09-18T15:22:10.362776Z"
    }
   },
   "outputs": [],
   "source": [
    "# generate dataset\n",
    "X_test,y_test = make_classification(n_samples=10000, n_features=2, n_redundant=0,\n",
    "n_clusters_per_class=1, weights=[0.99], flip_y=0, random_state=4)"
   ]
  },
  {
   "cell_type": "code",
   "execution_count": 143,
   "id": "9744e4d9",
   "metadata": {
    "ExecuteTime": {
     "end_time": "2021-09-18T15:22:20.541313Z",
     "start_time": "2021-09-18T15:22:20.535314Z"
    }
   },
   "outputs": [],
   "source": [
    "# define model\n",
    "model5 = EasyEnsembleClassifier(n_estimators=10)"
   ]
  },
  {
   "cell_type": "code",
   "execution_count": 144,
   "id": "628ad7d9",
   "metadata": {
    "ExecuteTime": {
     "end_time": "2021-09-18T15:22:33.577716Z",
     "start_time": "2021-09-18T15:22:33.573718Z"
    }
   },
   "outputs": [],
   "source": [
    "# define evaluation procedure\n",
    "cv = RepeatedStratifiedKFold(n_splits=10, n_repeats=3, random_state=1)"
   ]
  },
  {
   "cell_type": "code",
   "execution_count": 146,
   "id": "0d447775",
   "metadata": {
    "ExecuteTime": {
     "end_time": "2021-09-18T15:24:02.871069Z",
     "start_time": "2021-09-18T15:23:47.827503Z"
    }
   },
   "outputs": [],
   "source": [
    "# evaluate model\n",
    "scores5 = cross_val_score(model5, X_test, y_test, scoring='roc_auc', cv=cv, n_jobs=-1)"
   ]
  },
  {
   "cell_type": "code",
   "execution_count": 147,
   "id": "dcf2585d",
   "metadata": {
    "ExecuteTime": {
     "end_time": "2021-09-18T15:24:28.087225Z",
     "start_time": "2021-09-18T15:24:28.081229Z"
    }
   },
   "outputs": [
    {
     "name": "stdout",
     "output_type": "stream",
     "text": [
      "Mean ROC AUC: 0.962\n"
     ]
    }
   ],
   "source": [
    "# summarize performance\n",
    "print('Mean ROC AUC: %.3f' % mean(scores5))"
   ]
  },
  {
   "cell_type": "code",
   "execution_count": 148,
   "id": "65fc3f43",
   "metadata": {
    "ExecuteTime": {
     "end_time": "2021-09-18T15:24:39.503181Z",
     "start_time": "2021-09-18T15:24:39.471889Z"
    }
   },
   "outputs": [
    {
     "data": {
      "text/html": [
       "<div>\n",
       "<style scoped>\n",
       "    .dataframe tbody tr th:only-of-type {\n",
       "        vertical-align: middle;\n",
       "    }\n",
       "\n",
       "    .dataframe tbody tr th {\n",
       "        vertical-align: top;\n",
       "    }\n",
       "\n",
       "    .dataframe thead th {\n",
       "        text-align: right;\n",
       "    }\n",
       "</style>\n",
       "<table border=\"1\" class=\"dataframe\">\n",
       "  <thead>\n",
       "    <tr style=\"text-align: right;\">\n",
       "      <th></th>\n",
       "      <th>MODEL</th>\n",
       "      <th>Mean ROC AUC</th>\n",
       "    </tr>\n",
       "  </thead>\n",
       "  <tbody>\n",
       "    <tr>\n",
       "      <th>0</th>\n",
       "      <td>Standard Random Forest</td>\n",
       "      <td>0.873702</td>\n",
       "    </tr>\n",
       "    <tr>\n",
       "      <th>1</th>\n",
       "      <td>Random Forest With Class Weighting</td>\n",
       "      <td>0.875697</td>\n",
       "    </tr>\n",
       "    <tr>\n",
       "      <th>2</th>\n",
       "      <td>Random Forest With Bootstrap Class Weighting</td>\n",
       "      <td>0.880827</td>\n",
       "    </tr>\n",
       "    <tr>\n",
       "      <th>3</th>\n",
       "      <td>Random Forest With Random Undersampling</td>\n",
       "      <td>0.966401</td>\n",
       "    </tr>\n",
       "    <tr>\n",
       "      <th>4</th>\n",
       "      <td>Easy Ensemble</td>\n",
       "      <td>0.962130</td>\n",
       "    </tr>\n",
       "  </tbody>\n",
       "</table>\n",
       "</div>"
      ],
      "text/plain": [
       "                                          MODEL  Mean ROC AUC\n",
       "0                        Standard Random Forest      0.873702\n",
       "1            Random Forest With Class Weighting      0.875697\n",
       "2  Random Forest With Bootstrap Class Weighting      0.880827\n",
       "3       Random Forest With Random Undersampling      0.966401\n",
       "4                                 Easy Ensemble      0.962130"
      ]
     },
     "execution_count": 148,
     "metadata": {},
     "output_type": "execute_result"
    }
   ],
   "source": [
    "data = {\"MODEL\":pd.Series(['Standard Random Forest','Random Forest With Class Weighting','Random Forest With Bootstrap Class Weighting','Random Forest With Random Undersampling','Easy Ensemble']),\n",
    "        \"Mean ROC AUC\":pd.Series([mean(scores1),mean(scores2),mean(scores3),mean(scores4),mean(scores5)])}\n",
    "table=pd.DataFrame(data)\n",
    "table "
   ]
  },
  {
   "cell_type": "code",
   "execution_count": null,
   "id": "b41db859",
   "metadata": {},
   "outputs": [],
   "source": []
  }
 ],
 "metadata": {
  "kernelspec": {
   "display_name": "Python 3",
   "language": "python",
   "name": "python3"
  },
  "language_info": {
   "codemirror_mode": {
    "name": "ipython",
    "version": 3
   },
   "file_extension": ".py",
   "mimetype": "text/x-python",
   "name": "python",
   "nbconvert_exporter": "python",
   "pygments_lexer": "ipython3",
   "version": "3.8.8"
  },
  "varInspector": {
   "cols": {
    "lenName": 16,
    "lenType": 16,
    "lenVar": 40
   },
   "kernels_config": {
    "python": {
     "delete_cmd_postfix": "",
     "delete_cmd_prefix": "del ",
     "library": "var_list.py",
     "varRefreshCmd": "print(var_dic_list())"
    },
    "r": {
     "delete_cmd_postfix": ") ",
     "delete_cmd_prefix": "rm(",
     "library": "var_list.r",
     "varRefreshCmd": "cat(var_dic_list()) "
    }
   },
   "types_to_exclude": [
    "module",
    "function",
    "builtin_function_or_method",
    "instance",
    "_Feature"
   ],
   "window_display": false
  }
 },
 "nbformat": 4,
 "nbformat_minor": 5
}
