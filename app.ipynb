{
 "cells": [
  {
   "cell_type": "code",
   "execution_count": 1,
   "id": "7495564a",
   "metadata": {},
   "outputs": [],
   "source": [
    "!pip install -q pyngrok\n",
    "\n",
    "!pip install -q streamlit\n",
    "\n",
    "!pip install -q streamlit_ace"
   ]
  },
  {
   "cell_type": "code",
   "execution_count": 2,
   "id": "b192d96c",
   "metadata": {},
   "outputs": [],
   "source": [
    "#loading our libraries\n",
    "import streamlit as st\n",
    "import numpy as np\n",
    "import string\n",
    "import pickle\n",
    "\n",
    "#loading our model\n",
    "model = pickle.load(open('classifier.pkl','rb'))"
   ]
  },
  {
   "cell_type": "code",
   "execution_count": 3,
   "id": "673b5bdf",
   "metadata": {},
   "outputs": [],
   "source": [
    "def main():\n",
    "  st.markdown(\"<h1 style='text-align: center; color: White;background-color:#e84343'>Graduate Admission Predictor</h1>\", unsafe_allow_html=True)\n",
    "  st.markdown(\"<h3 style='text-align: center; color: Black;'>Drop in The required Inputs and we will do  the rest.</h3>\", unsafe_allow_html=True)\n",
    "  st.markdown(\"<h4 style='text-align: center; color: Black;'>Submission for The Python Week</h4>\", unsafe_allow_html=True)\n",
    "  st.sidebar.header(\"What is this Project about?\")\n",
    "  st.sidebar.text(\"It a Web app that would help the user in determining whether they will get admission in a Graduate Program or not.\")\n",
    "  st.sidebar.header(\"What tools where used to make this?\")\n",
    "  st.sidebar.text(\"The Model was made using a dataset from Kaggle along with using Kaggle notebooks to train the model. We made use of Sci-Kit learn in order to make our Linear Regression Model.\")\n"
   ]
  },
  {
   "cell_type": "code",
   "execution_count": 4,
   "id": "9ab56dea",
   "metadata": {},
   "outputs": [
    {
     "name": "stderr",
     "output_type": "stream",
     "text": [
      "2021-09-20 02:08:37.574 \n",
      "  \u001b[33m\u001b[1mWarning:\u001b[0m to view this Streamlit app on a browser, run it with the following\n",
      "  command:\n",
      "\n",
      "    streamlit run C:\\Users\\SONY VAIO\\anaconda3\\lib\\site-packages\\ipykernel_launcher.py [ARGUMENTS]\n"
     ]
    }
   ],
   "source": [
    " #part of our main method\n",
    " Customer_care_calls = st.slider(\"Customer_care_calls\",0.0,10.0) #taking the no.of calls by giving in the range from 0 to 10\n",
    " Customer_rating = st.slider(\"Customer_rating\",1,5) #taking the rating by giving in the range from 1 to 5\n",
    " Cost_of_the_Product = st.slider(\"Cost_of_the_Product\",95,310) #taking the cost by giving in the range from 95 to 310\n",
    " Prior_purchases = st.slider(\"Prior_purchases\",1,10) #taking the no.of purchases by a person in the range 1 to 10\n",
    " Gender = st.slider(\"Gender\",0,1) #\n",
    " Discount_offered = st.slider(\"Discount_offered\",1,70) #\n",
    " Weight_in_gms = st.slider(\"Weight_in_gms\",1000,8000) #\n",
    " Warehouse_block = st.slider(\"Warehouse_block\",0,4) #\n",
    " Mode_of_Shipment = st.slider(\"Mode_of_Shipment\",0,2) #\n",
    " Product_importance = st.slider(\"Product_importance\",0,2) #  \n",
    "\n",
    " inputs = [[Customer_care_calls,Customer_rating,Cost_of_the_Product,Prior_purchases,Gender,Discount_offered,Weight_in_gms,Warehouse_block,Mode_of_Shipment,Product_importance]] #our inputs\n",
    "\n",
    " if st.button('Predict'): #making and printing our prediction\n",
    "    result = model.predict(inputs)\n",
    "    updated_res = result.flatten().astype(float)\n",
    "    st.success('The Probability of getting the product delivered is {}'.format(updated_res))\n",
    "\n",
    "\n",
    "if __name__ =='__main__':\n",
    "  main() #calling the main method"
   ]
  },
  {
   "cell_type": "code",
   "execution_count": 5,
   "id": "908e6a6f",
   "metadata": {},
   "outputs": [
    {
     "name": "stderr",
     "output_type": "stream",
     "text": [
      "Usage: streamlit run [OPTIONS] TARGET [ARGS]...\n",
      "\n",
      "Error: Streamlit requires raw Python (.py) files, but the provided file has no extension.\n",
      "For more information, please see https://docs.streamlit.io\n"
     ]
    }
   ],
   "source": [
    "!streamlit run C:\\Users\\SONY VAIO\\anaconda3\\lib\\site-packages\\ipykernel_launcher.py"
   ]
  },
  {
   "cell_type": "code",
   "execution_count": 6,
   "id": "e3b5a0d2",
   "metadata": {
    "scrolled": true
   },
   "outputs": [
    {
     "name": "stdout",
     "output_type": "stream",
     "text": [
      "Authtoken saved to configuration file: C:\\Users\\SONY VAIO/.ngrok2/ngrok.yml\n"
     ]
    }
   ],
   "source": [
    "!ngrok authtoken 1yN9JcxYpBx4ovqDkkGiFM3sDL2_7mVbo8PBpukt7GMSHLZ3S"
   ]
  },
  {
   "cell_type": "code",
   "execution_count": 7,
   "id": "d15d823d",
   "metadata": {},
   "outputs": [],
   "source": [
    "#start /min python app.py &\n",
    "import os\n",
    "get_ipython().system = os.system"
   ]
  },
  {
   "cell_type": "code",
   "execution_count": 8,
   "id": "c3762cf7",
   "metadata": {},
   "outputs": [
    {
     "data": {
      "text/plain": [
       "0"
      ]
     },
     "execution_count": 8,
     "metadata": {},
     "output_type": "execute_result"
    }
   ],
   "source": [
    "!nohup streamlit run app.py & "
   ]
  },
  {
   "cell_type": "code",
   "execution_count": 11,
   "id": "770ccb34",
   "metadata": {},
   "outputs": [
    {
     "name": "stderr",
     "output_type": "stream",
     "text": [
      "2021-09-20 02:18:37.526 Opening tunnel named: http-80-598ace20-3244-4942-b6eb-ae7f197ad069\n",
      "2021-09-20 02:18:37.546 t=2021-09-20T02:18:37+0530 lvl=info msg=start pg=/api/tunnels id=8062b38d7d4972b8\n",
      "2021-09-20 02:18:38.367 t=2021-09-20T02:18:38+0530 lvl=info msg=\"started tunnel\" obj=tunnels name=\"http-80-598ace20-3244-4942-b6eb-ae7f197ad069 (http)\" addr=http://localhost:80 url=http://d302-2401-4900-2347-eadc-5090-963-8b9f-35d.ngrok.io\n",
      "2021-09-20 02:18:38.370 t=2021-09-20T02:18:38+0530 lvl=info msg=\"started tunnel\" obj=tunnels name=http-80-598ace20-3244-4942-b6eb-ae7f197ad069 addr=http://localhost:80 url=https://d302-2401-4900-2347-eadc-5090-963-8b9f-35d.ngrok.io\n",
      "2021-09-20 02:18:38.372 t=2021-09-20T02:18:38+0530 lvl=info msg=end pg=/api/tunnels id=8062b38d7d4972b8 status=201 dur=821.8105ms\n",
      "2021-09-20 02:18:38.375 t=2021-09-20T02:18:38+0530 lvl=info msg=start pg=\"/api/tunnels/http-80-598ace20-3244-4942-b6eb-ae7f197ad069 (http)\" id=07268f52d38dacab\n",
      "2021-09-20 02:18:38.377 t=2021-09-20T02:18:38+0530 lvl=info msg=end pg=\"/api/tunnels/http-80-598ace20-3244-4942-b6eb-ae7f197ad069 (http)\" id=07268f52d38dacab status=200 dur=0s\n"
     ]
    },
    {
     "data": {
      "text/plain": [
       "<NgrokTunnel: \"http://d302-2401-4900-2347-eadc-5090-963-8b9f-35d.ngrok.io\" -> \"http://localhost:80\">"
      ]
     },
     "execution_count": 11,
     "metadata": {},
     "output_type": "execute_result"
    }
   ],
   "source": [
    "from pyngrok import ngrok \n",
    "url = ngrok.connect(port = 8501)\n",
    "url #generates our URL"
   ]
  },
  {
   "cell_type": "code",
   "execution_count": 12,
   "id": "8f46a9e8",
   "metadata": {},
   "outputs": [
    {
     "data": {
      "text/plain": [
       "1"
      ]
     },
     "execution_count": 12,
     "metadata": {},
     "output_type": "execute_result"
    },
    {
     "name": "stderr",
     "output_type": "stream",
     "text": [
      "2021-09-20 02:18:58.188 t=2021-09-20T02:18:58+0530 lvl=warn msg=\"failed to open private leg\" id=158fdef05bd9 privaddr=localhost:80 err=\"dial tcp [::1]:80: connectex: No connection could be made because the target machine actively refused it.\"\n",
      "2021-09-20 02:18:59.693 t=2021-09-20T02:18:59+0530 lvl=warn msg=\"failed to open private leg\" id=ba44c866d92a privaddr=localhost:80 err=\"dial tcp [::1]:80: connectex: No connection could be made because the target machine actively refused it.\"\n",
      "2021-09-20 02:19:01.368 t=2021-09-20T02:19:01+0530 lvl=warn msg=\"failed to open private leg\" id=bfd181dbc924 privaddr=localhost:80 err=\"dial tcp [::1]:80: connectex: No connection could be made because the target machine actively refused it.\"\n"
     ]
    }
   ],
   "source": [
    "!streamlit run --server.port 80 app.py >/dev/null  #used for starting our server"
   ]
  },
  {
   "cell_type": "code",
   "execution_count": null,
   "id": "8a779b55",
   "metadata": {},
   "outputs": [],
   "source": []
  }
 ],
 "metadata": {
  "kernelspec": {
   "display_name": "Python 3",
   "language": "python",
   "name": "python3"
  },
  "language_info": {
   "codemirror_mode": {
    "name": "ipython",
    "version": 3
   },
   "file_extension": ".py",
   "mimetype": "text/x-python",
   "name": "python",
   "nbconvert_exporter": "python",
   "pygments_lexer": "ipython3",
   "version": "3.8.8"
  }
 },
 "nbformat": 4,
 "nbformat_minor": 5
}
